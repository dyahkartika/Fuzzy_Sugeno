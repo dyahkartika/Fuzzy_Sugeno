{
 "cells": [
  {
   "cell_type": "markdown",
   "metadata": {},
   "source": [
    "# Implementasi Fuzzy Sugeno Dalam Memprediksi Jumlah Produksi\n",
    "Studi kasus : Pengaruh suhu, kebisingan, dan pencahayaan terhadap jumlah produk yang dihasilkan oleh pekerja.\n",
    "\n",
    "Nama : Dyah Kartika Damarsiwi (NIM.P31202402646)"
   ]
  },
  {
   "cell_type": "code",
   "execution_count": 25,
   "metadata": {},
   "outputs": [],
   "source": [
    "# fungsi untuk menentukan keanggotaan suhu\n",
    "def mu_rendah_suhu(x):\n",
    "    if x <= 18 or x >= 26:\n",
    "        return 0\n",
    "    elif 18 < x <= 22:\n",
    "        return (x - 18) / 4\n",
    "    elif 22 < x < 26:\n",
    "        return (26 - x) / 4\n",
    "    return 0\n",
    "\n",
    "\n",
    "def mu_normal_suhu(x):\n",
    "    if x <= 22 or x >= 32:\n",
    "        return 0\n",
    "    elif 22 < x <= 26:\n",
    "        return (x - 22) / 4\n",
    "    elif 26 < x < 32:\n",
    "        return (32 - x) / 6\n",
    "    return 0\n",
    "\n",
    "\n",
    "def mu_tinggi_suhu(x):\n",
    "    if x <= 26 or x >= 38:\n",
    "        return 0\n",
    "    elif 26 < x <= 32:\n",
    "        return (x - 26) / 6\n",
    "    elif 32 < x < 38:\n",
    "        return (38 - x) / 6\n",
    "    return 0"
   ]
  },
  {
   "cell_type": "code",
   "execution_count": 26,
   "metadata": {},
   "outputs": [],
   "source": [
    "# fungsi untuk menentukan keanggotaan kebisingan\n",
    "def mu_tenang(x):\n",
    "    if x <= 35 or x >= 75:\n",
    "        return 0\n",
    "    elif 35 < x <= 55:\n",
    "        return (x - 35) / 20\n",
    "    elif 55 < x < 75:\n",
    "        return (75 - x) / 20\n",
    "    return 0\n",
    "\n",
    "\n",
    "def mu_agak_bising(x):\n",
    "    if x <= 55 or x >= 90:\n",
    "        return 0\n",
    "    elif 55 < x <= 75:\n",
    "        return (x - 55) / 20\n",
    "    elif 75 < x < 90:\n",
    "        return (90 - x) / 15\n",
    "    return 0\n",
    "\n",
    "\n",
    "def mu_bising(x):\n",
    "    if x <= 75 or x >= 105:\n",
    "        return 0\n",
    "    elif 75 < x <= 90:\n",
    "        return (x - 75) / 15\n",
    "    elif 90 < x < 105:\n",
    "        return (105 - x) / 15\n",
    "    return 0\n"
   ]
  },
  {
   "cell_type": "code",
   "execution_count": 27,
   "metadata": {},
   "outputs": [],
   "source": [
    "# fungsi untuk menentukan keanggotaan pencahayaan\n",
    "def mu_redup(x):\n",
    "    if x <= 0 or x >= 300:\n",
    "        return 0\n",
    "    elif 0 < x <= 150:\n",
    "        return x / 150\n",
    "    elif 150 < x < 300:\n",
    "        return (300 - x) / 150\n",
    "    return 0\n",
    "\n",
    "\n",
    "def mu_agak_terang(x):\n",
    "    if x <= 150 or x >= 500:\n",
    "        return 0\n",
    "    elif 150 < x <= 300:\n",
    "        return (x - 150) / 150\n",
    "    elif 300 < x < 500:\n",
    "        return (500 - x) / 200\n",
    "    return 0\n",
    "\n",
    "\n",
    "def mu_terang(x):\n",
    "    if x <= 300 or x >= 700:\n",
    "        return 0\n",
    "    elif 300 < x <= 500:\n",
    "        return (x - 300) / 200\n",
    "    elif 500 < x < 700:\n",
    "        return (700 - x) / 200\n",
    "    return 0\n"
   ]
  },
  {
   "cell_type": "code",
   "execution_count": 28,
   "metadata": {},
   "outputs": [],
   "source": [
    "# Daftar aturan Sugeno (27 aturan)\n",
    "rules = [\n",
    "    (\"RENDAH\", \"TENANG\", \"REDUP\", 148.00), (\"RENDAH\", \"TENANG\", \"AGAK TERANG\", 150.90), (\"RENDAH\", \"TENANG\", \"TERANG\", 146.50),\n",
    "    (\"RENDAH\", \"AGAK BISING\", \"REDUP\", 143.10), (\"RENDAH\", \"AGAK BISING\", \"AGAK TERANG\", 146.53), (\"RENDAH\", \"AGAK BISING\", \"TERANG\", 142.73),\n",
    "    (\"RENDAH\", \"BISING\", \"REDUP\", 136.73), (\"RENDAH\", \"BISING\", \"AGAK TERANG\", 140.77), (\"RENDAH\", \"BISING\", \"TERANG\", 135.97),\n",
    "    (\"NORMAL\", \"TENANG\", \"REDUP\", 149.73), (\"NORMAL\", \"TENANG\", \"AGAK TERANG\", 153.27), (\"NORMAL\", \"TENANG\", \"TERANG\", 152.13),\n",
    "    (\"NORMAL\", \"AGAK BISING\", \"REDUP\", 148.00), (\"NORMAL\", \"AGAK BISING\", \"AGAK TERANG\", 150.63), (\"NORMAL\", \"AGAK BISING\", \"TERANG\", 147.63),\n",
    "    (\"NORMAL\", \"BISING\", \"REDUP\", 141.47), (\"NORMAL\", \"BISING\", \"AGAK TERANG\", 145.67), (\"NORMAL\", \"BISING\", \"TERANG\", 140.20),\n",
    "    (\"TINGGI\", \"TENANG\", \"REDUP\", 142.10), (\"TINGGI\", \"TENANG\", \"AGAK TERANG\", 146.53), (\"TINGGI\", \"TENANG\", \"TERANG\", 142.17),\n",
    "    (\"TINGGI\", \"AGAK BISING\", \"REDUP\", 138.70), (\"TINGGI\", \"AGAK BISING\", \"AGAK TERANG\", 141.40), (\"TINGGI\", \"AGAK BISING\", \"TERANG\", 138.30),\n",
    "    (\"TINGGI\", \"BISING\", \"REDUP\", 133.33), (\"TINGGI\", \"BISING\", \"AGAK TERANG\", 138.53), (\"TINGGI\", \"BISING\", \"TERANG\", 133.77)\n",
    "]\n"
   ]
  },
  {
   "cell_type": "code",
   "execution_count": 29,
   "metadata": {},
   "outputs": [],
   "source": [
    "# Perhitungan Fuzzy Sugeno berdasarkan derajat keanggotaan, 27 aturan, dan rata-rata produk\n",
    "def fuzzy_sugeno(suhu, kebisingan, pencahayaan):\n",
    "    μ_suhu = {\n",
    "        \"RENDAH\": mu_rendah_suhu(suhu),\n",
    "        \"NORMAL\": mu_normal_suhu(suhu),\n",
    "        \"TINGGI\": mu_tinggi_suhu(suhu)\n",
    "    }\n",
    "    μ_kebisingan = {\n",
    "        \"TENANG\": mu_tenang(kebisingan),\n",
    "        \"AGAK BISING\": mu_agak_bising(kebisingan),\n",
    "        \"BISING\": mu_bising(kebisingan)\n",
    "    }\n",
    "    μ_pencahayaan = {\n",
    "        \"REDUP\": mu_redup(pencahayaan),\n",
    "        \"AGAK TERANG\": mu_agak_terang(pencahayaan),\n",
    "        \"TERANG\": mu_terang(pencahayaan)\n",
    "    }\n",
    "    numerator = 0\n",
    "    denominator = 0\n",
    "    for (s, k, p, output) in rules:\n",
    "        w = min(μ_suhu[s], μ_kebisingan[k], μ_pencahayaan[p])\n",
    "        numerator += w * output\n",
    "        denominator += w\n",
    "    return numerator / denominator if denominator != 0 else 0\n"
   ]
  },
  {
   "cell_type": "code",
   "execution_count": 30,
   "metadata": {},
   "outputs": [
    {
     "name": "stdout",
     "output_type": "stream",
     "text": [
      "Prediksi jumlah produksi: 149.37\n"
     ]
    }
   ],
   "source": [
    "# Penggunaan sistem fuzzy Sugeno\n",
    "hasil = fuzzy_sugeno(suhu=25, kebisingan=65, pencahayaan=250)\n",
    "print(f\"Prediksi jumlah produksi: {hasil:.2f}\")\n"
   ]
  }
 ],
 "metadata": {
  "kernelspec": {
   "display_name": "Python 3.11.1 64-bit",
   "language": "python",
   "name": "python3"
  },
  "language_info": {
   "codemirror_mode": {
    "name": "ipython",
    "version": 3
   },
   "file_extension": ".py",
   "mimetype": "text/x-python",
   "name": "python",
   "nbconvert_exporter": "python",
   "pygments_lexer": "ipython3",
   "version": "3.11.1"
  },
  "orig_nbformat": 4,
  "vscode": {
   "interpreter": {
    "hash": "d417a21d97a2e6b8832d21dc44f5cbe4be6e18325f874a8bb8484565b928cd54"
   }
  }
 },
 "nbformat": 4,
 "nbformat_minor": 2
}
